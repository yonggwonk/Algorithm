{
 "cells": [
  {
   "cell_type": "markdown",
   "id": "69298d2e",
   "metadata": {},
   "source": [
    "# 1. 알고리즘이란\n",
    "\n",
    "### - 세 정수를 입력받아 중앙값 구하기"
   ]
  },
  {
   "cell_type": "code",
   "execution_count": 1,
   "id": "a475ae00",
   "metadata": {},
   "outputs": [
    {
     "name": "stdout",
     "output_type": "stream",
     "text": [
      "세 정수의 중앙값을 구합니다.\n",
      "a=4\n",
      "b=5\n",
      "c=8\n"
     ]
    },
    {
     "data": {
      "text/plain": [
       "5"
      ]
     },
     "execution_count": 1,
     "metadata": {},
     "output_type": "execute_result"
    }
   ],
   "source": [
    "def med3(a,b,c):\n",
    "    if a>b:\n",
    "        if b>=c:\n",
    "            return b\n",
    "        elif c>=a:\n",
    "            return a\n",
    "        else:\n",
    "            return c\n",
    "    elif a>c:\n",
    "        return a\n",
    "    elif b>c:\n",
    "        return c\n",
    "    else:\n",
    "        return b\n",
    "    \n",
    "print('세 정수의 중앙값을 구합니다.')\n",
    "a=int(input('a='))\n",
    "b=int(input('b='))\n",
    "c=int(input('c='))\n",
    "\n",
    "med3(a,b,c)"
   ]
  },
  {
   "cell_type": "markdown",
   "id": "7fda193a",
   "metadata": {},
   "source": [
    "### - a 부터 b 까지의 합 구하기"
   ]
  },
  {
   "cell_type": "code",
   "execution_count": 6,
   "id": "34b4529d",
   "metadata": {},
   "outputs": [
    {
     "name": "stdout",
     "output_type": "stream",
     "text": [
      "a=20\n",
      "b=10\n",
      "sum=165\n"
     ]
    }
   ],
   "source": [
    "a=int(input('a='))\n",
    "b=int(input('b='))\n",
    "sum=0\n",
    "\n",
    "if a>b:\n",
    "    a,b=b,a\n",
    "for i in range(a,b+1):\n",
    "    sum+=i\n",
    "print(f'sum={sum}')"
   ]
  },
  {
   "cell_type": "markdown",
   "id": "f7f3bc93",
   "metadata": {},
   "source": [
    "### - 넓이가 주어진 직사각형 변 길이 구하기"
   ]
  },
  {
   "cell_type": "code",
   "execution_count": 9,
   "id": "0bee2e84",
   "metadata": {},
   "outputs": [
    {
     "name": "stdout",
     "output_type": "stream",
     "text": [
      "area = 48\n",
      "1 X 48\n",
      "2 X 24\n",
      "3 X 16\n",
      "4 X 12\n",
      "6 X 8\n"
     ]
    }
   ],
   "source": [
    "area = int(input('area = '))\n",
    "\n",
    "for i in range(1, area+1):\n",
    "    if i*i>area:\n",
    "        break\n",
    "    if area%i:\n",
    "        continue\n",
    "    else:\n",
    "        print(f'{i} X {area // i}')"
   ]
  },
  {
   "cell_type": "code",
   "execution_count": null,
   "id": "f4bd7c84",
   "metadata": {},
   "outputs": [],
   "source": []
  }
 ],
 "metadata": {
  "kernelspec": {
   "display_name": "Python 3 (ipykernel)",
   "language": "python",
   "name": "python3"
  },
  "language_info": {
   "codemirror_mode": {
    "name": "ipython",
    "version": 3
   },
   "file_extension": ".py",
   "mimetype": "text/x-python",
   "name": "python",
   "nbconvert_exporter": "python",
   "pygments_lexer": "ipython3",
   "version": "3.9.13"
  }
 },
 "nbformat": 4,
 "nbformat_minor": 5
}
