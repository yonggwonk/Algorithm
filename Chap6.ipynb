{
 "cells": [
  {
   "cell_type": "markdown",
   "metadata": {},
   "source": [
    "## 6. 정렬 알고리즘\n",
    "\n",
    "- 안정적인 정렬: 값이 같은 원소의 순서는 정렬 후에도 같음\n",
    "\n",
    "- 내부 정렬: 모든 데이터를 하나의 배열에 저장\n",
    "- 외부 정렬: 하나의 배열에 저장할 수 없는 경우\n",
    "\n",
    "교환, 선택, 삽입을 통해 정렬 알고리즘을 구현하는 것이 핵심"
   ]
  },
  {
   "cell_type": "markdown",
   "metadata": {},
   "source": [
    "### 6-2. 버블 정렬\n",
    "\n",
    "이웃한 두 원소의 대소관계를 비교하여 필요에 따라 교환을 반복하는 알고리즘\n",
    "\n",
    "비교, 교환(패스)를 n-1, n-2,...번 반복하여 원소를 배치함 "
   ]
  },
  {
   "cell_type": "code",
   "execution_count": 4,
   "metadata": {},
   "outputs": [
    {
     "name": "stdout",
     "output_type": "stream",
     "text": [
      "버블 정렬을 수행합니다.\n"
     ]
    },
    {
     "name": "stdout",
     "output_type": "stream",
     "text": [
      "오름차순으로 정렬했습니다.\n",
      "x[0]=1\n",
      "x[1]=2\n",
      "x[2]=3\n",
      "x[3]=3\n",
      "x[4]=4\n",
      "x[5]=5\n",
      "x[6]=6\n",
      "x[7]=7\n"
     ]
    }
   ],
   "source": [
    "from typing import MutableSequence\n",
    "\n",
    "def bubble_sort(a: MutableSequence) -> None:\n",
    "    n=len(a)\n",
    "    for i in range(n-1):\n",
    "        for j in range(n-1,i,-1):\n",
    "            if a[j-1] > a[j]:\n",
    "                a[j-1], a[j]=a[j], a[j-1]\n",
    "                \n",
    "if __name__=='__main__':\n",
    "    print('버블 정렬을 수행합니다.')\n",
    "    num=int(input('원소 수를 입력하세요:'))\n",
    "    x=[None] * num\n",
    "    for i in range(num):\n",
    "        x[i]=int(input(f'x[{i}]:'))\n",
    "        \n",
    "    bubble_sort(x)\n",
    "    \n",
    "    print('오름차순으로 정렬했습니다.') \n",
    "    for i in range(num):\n",
    "        print(f'x[{i}]={x[i]}')"
   ]
  },
  {
   "cell_type": "markdown",
   "metadata": {},
   "source": [
    "- 패스에서 교환 횟수가 0인 경우 더이상의 교환이 필요없는 것이기 때문에, 알고리즘을 중단하도록 개선할 수 있음\n",
    "\n",
    "- 어떤 특정 원소 이후에 교환하지 않는다면 그 원소보다 앞쪽에 있는 원소는 정렬을 마친 것이므로, 다음 패스에서 스캔 범위를 제한할 수 있음"
   ]
  },
  {
   "cell_type": "code",
   "execution_count": 5,
   "metadata": {},
   "outputs": [
    {
     "name": "stdout",
     "output_type": "stream",
     "text": [
      "버블 정렬을 수행합니다.\n",
      "오름차순으로 정렬했습니다.\n",
      "x[0]=1\n",
      "x[1]=2\n",
      "x[2]=2\n",
      "x[3]=3\n",
      "x[4]=4\n",
      "x[5]=5\n",
      "x[6]=6\n",
      "x[7]=7\n"
     ]
    }
   ],
   "source": [
    "from typing import MutableSequence\n",
    "\n",
    "def bubble_sort(a: MutableSequence) -> None:\n",
    "    n=len(a)\n",
    "    for i in range(n-1):\n",
    "        exchange=0\n",
    "        for j in range(n-1,i,-1):\n",
    "            if a[j-1] > a[j]:\n",
    "                a[j-1], a[j]=a[j], a[j-1]\n",
    "                exchange+=1\n",
    "        if exchange==0:\n",
    "            break\n",
    "        \n",
    "if __name__=='__main__':\n",
    "    print('버블 정렬을 수행합니다.')\n",
    "    num=int(input('원소 수를 입력하세요:'))\n",
    "    x=[None] * num\n",
    "    for i in range(num):\n",
    "        x[i]=int(input(f'x[{i}]:'))\n",
    "        \n",
    "    bubble_sort(x)\n",
    "    \n",
    "    print('오름차순으로 정렬했습니다.') \n",
    "    for i in range(num):\n",
    "        print(f'x[{i}]={x[i]}')"
   ]
  },
  {
   "cell_type": "code",
   "execution_count": 6,
   "metadata": {},
   "outputs": [
    {
     "name": "stdout",
     "output_type": "stream",
     "text": [
      "버블 정렬을 수행합니다.\n",
      "오름차순으로 정렬했습니다.\n",
      "x[0]=1\n",
      "x[1]=2\n",
      "x[2]=3\n",
      "x[3]=3\n",
      "x[4]=4\n",
      "x[5]=6\n",
      "x[6]=7\n",
      "x[7]=8\n"
     ]
    }
   ],
   "source": [
    "from typing import MutableSequence\n",
    "\n",
    "def bubble_sort(a: MutableSequence) -> None:\n",
    "    n=len(a)\n",
    "    k=0\n",
    "    while k<n-1:\n",
    "        last=n-1\n",
    "        for j in range(n-1,k,-1):\n",
    "            if a[j-1] > a[j]:\n",
    "                a[j-1], a[j]=a[j], a[j-1]\n",
    "                last=j\n",
    "        k=last\n",
    "        \n",
    "if __name__=='__main__':\n",
    "    print('버블 정렬을 수행합니다.')\n",
    "    num=int(input('원소 수를 입력하세요:'))\n",
    "    x=[None] * num\n",
    "    for i in range(num):\n",
    "        x[i]=int(input(f'x[{i}]:'))\n",
    "        \n",
    "    bubble_sort(x)\n",
    "    \n",
    "    print('오름차순으로 정렬했습니다.') \n",
    "    for i in range(num):\n",
    "        print(f'x[{i}]={x[i]}')"
   ]
  },
  {
   "cell_type": "markdown",
   "metadata": {},
   "source": [
    "### 셰이커 정렬\n",
    "\n",
    "혼수 패스에서는 가장 작은 원소를 맨 앞으로 이동시키고, 짝수 패스에서는 가장 큰 원소를 맨 뒤로 이동시켜 패스의 스캔 방향을 번갈아 바꾸어 정렬하는 알고리즘"
   ]
  },
  {
   "cell_type": "code",
   "execution_count": 8,
   "metadata": {},
   "outputs": [
    {
     "name": "stdout",
     "output_type": "stream",
     "text": [
      "셰이커 정렬을 수행합니다.\n",
      "오름차순으로 정렬했습니다.\n",
      "x[0]=1\n",
      "x[1]=3\n",
      "x[2]=4\n",
      "x[3]=5\n",
      "x[4]=7\n",
      "x[5]=9\n",
      "x[6]=22\n"
     ]
    }
   ],
   "source": [
    "from typing import MutableSequence\n",
    "\n",
    "def shaker_sort(a: MutableSequence) -> None:\n",
    "    left=0\n",
    "    right=len(a)-1\n",
    "    last=right\n",
    "    while left < right:\n",
    "        for j in range(right,left,-1):\n",
    "            if a[j-1]>a[j]:\n",
    "                a[j-1],a[j]=a[j],a[j-1]\n",
    "                last = j\n",
    "        left=last\n",
    "        \n",
    "        for i in range(left,right):\n",
    "            if a[j]>a[j+1]:\n",
    "                a[j+1],a[j]=a[j],a[j+1]\n",
    "                last = j\n",
    "        right=last\n",
    "        \n",
    "if __name__=='__main__':\n",
    "    print('셰이커 정렬을 수행합니다.')\n",
    "    num=int(input('원소 수를 입력하세요:'))\n",
    "    x=[None] * num\n",
    "    for i in range(num):\n",
    "        x[i]=int(input(f'x[{i}]:'))\n",
    "        \n",
    "    bubble_sort(x)\n",
    "    \n",
    "    print('오름차순으로 정렬했습니다.') \n",
    "    for i in range(num):\n",
    "        print(f'x[{i}]={x[i]}')"
   ]
  },
  {
   "cell_type": "markdown",
   "metadata": {},
   "source": [
    "### 6-3. 단순 선택 정렬\n",
    "\n",
    "가장 작은 원소부터 선택해 알맞은 위치로 옯기는 작업을 반복하며 정렬하는 알고리즘"
   ]
  },
  {
   "cell_type": "code",
   "execution_count": 3,
   "metadata": {},
   "outputs": [
    {
     "name": "stdout",
     "output_type": "stream",
     "text": [
      "단순 선택 정렬을 수행합니다.\n",
      "오름차순으로 정렬했습니다.\n",
      "x[0]=1\n",
      "x[1]=4\n",
      "x[2]=4\n",
      "x[3]=6\n",
      "x[4]=6\n"
     ]
    }
   ],
   "source": [
    "# 단순 선택 정렬 알고리즘\n",
    "\n",
    "from typing import MutableSequence\n",
    "\n",
    "def selection_sort(a: MutableSequence) -> None:\n",
    "    n=len(a)\n",
    "    for i in range(n-1):\n",
    "        min = i\n",
    "        for j in range(i+1,n):\n",
    "            if a[j] < a[min]:\n",
    "                min = j\n",
    "        a[i],a[min] = a[min], a[i]\n",
    "        \n",
    "if __name__=='__main__':\n",
    "    print('단순 선택 정렬을 수행합니다.')\n",
    "    num=int(input('원소 수를 입력하세요:'))\n",
    "    x=[None] * num\n",
    "    for i in range(num):\n",
    "        x[i]=int(input(f'x[{i}]:'))\n",
    "        \n",
    "    selection_sort(x)\n",
    "    \n",
    "    print('오름차순으로 정렬했습니다.') \n",
    "    for i in range(num):\n",
    "        print(f'x[{i}]={x[i]}')"
   ]
  },
  {
   "cell_type": "markdown",
   "metadata": {},
   "source": [
    "### 6-4. 단순 삽입 정렬\n",
    "\n",
    "주목한 원소보다 더 앞쪽에서 알맞은 위치로 삽입하며 정렬하는 알고리즘"
   ]
  },
  {
   "cell_type": "code",
   "execution_count": 4,
   "metadata": {},
   "outputs": [
    {
     "name": "stdout",
     "output_type": "stream",
     "text": [
      "단순 삽입 정렬을 수행합니다.\n",
      "오름차순으로 정렬했습니다.\n",
      "x[0]=1\n",
      "x[1]=2\n",
      "x[2]=3\n",
      "x[3]=5\n",
      "x[4]=6\n",
      "x[5]=9\n",
      "x[6]=39\n"
     ]
    }
   ],
   "source": [
    "from typing import MutableSequence\n",
    "\n",
    "def insertion_sort(a: MutableSequence) -> None:\n",
    "    n=len(a)\n",
    "    for i in range(1,n):\n",
    "        j=i\n",
    "        tmp=a[i]\n",
    "        while j>0 and a[j-1] > tmp:\n",
    "            a[j] = a[j-1]\n",
    "            j-=1\n",
    "        a[j] = tmp\n",
    "        \n",
    "if __name__=='__main__':\n",
    "    print('단순 삽입 정렬을 수행합니다.')\n",
    "    num=int(input('원소 수를 입력하세요:'))\n",
    "    x=[None] * num\n",
    "    for i in range(num):\n",
    "        x[i]=int(input(f'x[{i}]:'))\n",
    "        \n",
    "    insertion_sort(x)\n",
    "    \n",
    "    print('오름차순으로 정렬했습니다.') \n",
    "    for i in range(num):\n",
    "        print(f'x[{i}]={x[i]}')"
   ]
  },
  {
   "cell_type": "markdown",
   "metadata": {},
   "source": [
    "### 단순 정렬 알고리즘의 시간복잡도\n",
    "\n",
    "버블, 선택, 삽입 알고리즘의 시간복잡도는 $$O(n^2)$$ 로 효율이 좋지 않음\n",
    "\n",
    "### 6-5. 셸 정렬\n",
    "\n",
    "단순 삽입 정렬의 장점을 살리고 단점을 보완한 알고리즘\n",
    "\n",
    "원소를 그룹화 하여 그룹별로 정렬하고, 4-정렬, 2-정렬, 1-정렬을 진행하며 정렬을 완료하는 방법\n",
    "\n",
    "셸의 나누는 간격 h를 선택하는 방법: h값이 서로 배수가 되지 않도록 함으로써 원소가 충분히 뒤섞이도록 함 \n",
    "\n",
    "ex) h = ... 121 -> 40 -> 13 -> 4 -> 1\n",
    "\n",
    "1부터 시작하여 3배한 값에 1을 더하는 알고리즘을 사용"
   ]
  },
  {
   "cell_type": "code",
   "execution_count": 1,
   "metadata": {},
   "outputs": [
    {
     "name": "stdout",
     "output_type": "stream",
     "text": [
      "셸 정렬을 수행합니다(h*3+1의 수열 사용)\n",
      "오름차순으로 정렬했습니다.\n",
      "x[0]=1\n",
      "x[1]=3\n",
      "x[2]=4\n",
      "x[3]=5\n",
      "x[4]=5\n",
      "x[5]=7\n",
      "x[6]=8\n"
     ]
    }
   ],
   "source": [
    "# 셸 정렬 알고리즘\n",
    "\n",
    "from typing import MutableSequence\n",
    "\n",
    "def shell_sort(a: MutableSequence) -> None:\n",
    "    n=len(a)\n",
    "    h=1\n",
    "    \n",
    "    while h< n//9:\n",
    "        h=h*3+1\n",
    "        \n",
    "    while h>0:\n",
    "        for i in range(h,n):\n",
    "            j=i-h\n",
    "            tmp=a[i]\n",
    "            while j>=0 and a[j]> tmp:\n",
    "                a[j+h]=a[j]\n",
    "                j-=h\n",
    "            a[j+h]=tmp\n",
    "        h//=3\n",
    "        \n",
    "if __name__==\"__main__\":\n",
    "    print('셸 정렬을 수행합니다(h*3+1의 수열 사용)')\n",
    "    num=int(input('원소 수를 입력하세요:'))\n",
    "    x=[None]* num\n",
    "    for i in range(num):\n",
    "        x[i]=int(input(f'x[{i}]:')) \n",
    "        \n",
    "    shell_sort(x)\n",
    "    \n",
    "    print('오름차순으로 정렬했습니다.') \n",
    "    for i in range(num):\n",
    "\n",
    "        print(f'x[{i}]={x[i]}')          "
   ]
  },
  {
   "cell_type": "markdown",
   "metadata": {},
   "source": [
    "### 6-6. 퀵 정렬\n",
    "\n",
    "가장 빠른 정렬 알고리즘\n",
    "\n",
    "기준값 피벗을 설정하고 두 그룹으로 나눔\n",
    "\n",
    "오른쪽, 왼쪽 끝점을 pr, pl로 설정하고, 끝에서부터 기준값보다 크거나 작은 원소를 탐색 -> 두 값을 교환(올바른 위치로 이동)\n",
    "\n",
    "두 점이 교차되면 그룹을 나누는 과정이 끝나고, 피벗값을 기준으로 나누어짐\n",
    "\n",
    "두 점이 일치하는 경우(피벗과 같은 위치)-> 한 번 원소를 교환함\n",
    "\n",
    "\n"
   ]
  },
  {
   "cell_type": "code",
   "execution_count": null,
   "metadata": {},
   "outputs": [],
   "source": []
  }
 ],
 "metadata": {
  "kernelspec": {
   "display_name": "Python 3",
   "language": "python",
   "name": "python3"
  },
  "language_info": {
   "codemirror_mode": {
    "name": "ipython",
    "version": 3
   },
   "file_extension": ".py",
   "mimetype": "text/x-python",
   "name": "python",
   "nbconvert_exporter": "python",
   "pygments_lexer": "ipython3",
   "version": "3.11.4"
  },
  "orig_nbformat": 4
 },
 "nbformat": 4,
 "nbformat_minor": 2
}
