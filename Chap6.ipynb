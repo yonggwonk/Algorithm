{
 "cells": [
  {
   "cell_type": "markdown",
   "metadata": {},
   "source": [
    "## 6. 정렬 알고리즘\n",
    "\n",
    "- 안정적인 정렬: 값이 같은 원소의 순서는 정렬 후에도 같음\n",
    "\n",
    "- 내부 정렬: 모든 데이터를 하나의 배열에 저장\n",
    "- 외부 정렬: 하나의 배열에 저장할 수 없는 경우\n",
    "\n",
    "교환, 선택, 삽입을 통해 정렬 알고리즘을 구현하는 것이 핵심"
   ]
  },
  {
   "cell_type": "markdown",
   "metadata": {},
   "source": [
    "### 6-2. 버블 정렬\n",
    "\n",
    "이웃한 두 원소의 대소관계를 비교하여 필요에 따라 교환을 반복하는 알고리즘\n",
    "\n",
    "비교, 교환(패스)를 n-1, n-2,...번 반복하여 원소를 배치함 "
   ]
  },
  {
   "cell_type": "code",
   "execution_count": 4,
   "metadata": {},
   "outputs": [
    {
     "name": "stdout",
     "output_type": "stream",
     "text": [
      "버블 정렬을 수행합니다.\n"
     ]
    },
    {
     "name": "stdout",
     "output_type": "stream",
     "text": [
      "오름차순으로 정렬했습니다.\n",
      "x[0]=1\n",
      "x[1]=2\n",
      "x[2]=3\n",
      "x[3]=3\n",
      "x[4]=4\n",
      "x[5]=5\n",
      "x[6]=6\n",
      "x[7]=7\n"
     ]
    }
   ],
   "source": [
    "from typing import MutableSequence\n",
    "\n",
    "def bubble_sort(a: MutableSequence) -> None:\n",
    "    n=len(a)\n",
    "    for i in range(n-1):\n",
    "        for j in range(n-1,i,-1):\n",
    "            if a[j-1] > a[j]:\n",
    "                a[j-1], a[j]=a[j], a[j-1]\n",
    "                \n",
    "if __name__=='__main__':\n",
    "    print('버블 정렬을 수행합니다.')\n",
    "    num=int(input('원소 수를 입력하세요:'))\n",
    "    x=[None] * num\n",
    "    for i in range(num):\n",
    "        x[i]=int(input(f'x[{i}]:'))\n",
    "        \n",
    "    bubble_sort(x)\n",
    "    \n",
    "    print('오름차순으로 정렬했습니다.') \n",
    "    for i in range(num):\n",
    "        print(f'x[{i}]={x[i]}')"
   ]
  },
  {
   "cell_type": "markdown",
   "metadata": {},
   "source": [
    "- 패스에서 교환 횟수가 0인 경우 더이상의 교환이 필요없는 것이기 때문에, 알고리즘을 중단하도록 개선할 수 있음\n",
    "\n",
    "- 어떤 특정 원소 이후에 교환하지 않는다면 그 원소보다 앞쪽에 있는 원소는 정렬을 마친 것이므로, 다음 패스에서 스캔 범위를 제한할 수 있음"
   ]
  },
  {
   "cell_type": "code",
   "execution_count": 5,
   "metadata": {},
   "outputs": [
    {
     "name": "stdout",
     "output_type": "stream",
     "text": [
      "버블 정렬을 수행합니다.\n",
      "오름차순으로 정렬했습니다.\n",
      "x[0]=1\n",
      "x[1]=2\n",
      "x[2]=2\n",
      "x[3]=3\n",
      "x[4]=4\n",
      "x[5]=5\n",
      "x[6]=6\n",
      "x[7]=7\n"
     ]
    }
   ],
   "source": [
    "from typing import MutableSequence\n",
    "\n",
    "def bubble_sort(a: MutableSequence) -> None:\n",
    "    n=len(a)\n",
    "    for i in range(n-1):\n",
    "        exchange=0\n",
    "        for j in range(n-1,i,-1):\n",
    "            if a[j-1] > a[j]:\n",
    "                a[j-1], a[j]=a[j], a[j-1]\n",
    "                exchange+=1\n",
    "        if exchange==0:\n",
    "            break\n",
    "        \n",
    "if __name__=='__main__':\n",
    "    print('버블 정렬을 수행합니다.')\n",
    "    num=int(input('원소 수를 입력하세요:'))\n",
    "    x=[None] * num\n",
    "    for i in range(num):\n",
    "        x[i]=int(input(f'x[{i}]:'))\n",
    "        \n",
    "    bubble_sort(x)\n",
    "    \n",
    "    print('오름차순으로 정렬했습니다.') \n",
    "    for i in range(num):\n",
    "        print(f'x[{i}]={x[i]}')"
   ]
  },
  {
   "cell_type": "code",
   "execution_count": 6,
   "metadata": {},
   "outputs": [
    {
     "name": "stdout",
     "output_type": "stream",
     "text": [
      "버블 정렬을 수행합니다.\n",
      "오름차순으로 정렬했습니다.\n",
      "x[0]=1\n",
      "x[1]=2\n",
      "x[2]=3\n",
      "x[3]=3\n",
      "x[4]=4\n",
      "x[5]=6\n",
      "x[6]=7\n",
      "x[7]=8\n"
     ]
    }
   ],
   "source": [
    "from typing import MutableSequence\n",
    "\n",
    "def bubble_sort(a: MutableSequence) -> None:\n",
    "    n=len(a)\n",
    "    k=0\n",
    "    while k<n-1:\n",
    "        last=n-1\n",
    "        for j in range(n-1,k,-1):\n",
    "            if a[j-1] > a[j]:\n",
    "                a[j-1], a[j]=a[j], a[j-1]\n",
    "                last=j\n",
    "        k=last\n",
    "        \n",
    "if __name__=='__main__':\n",
    "    print('버블 정렬을 수행합니다.')\n",
    "    num=int(input('원소 수를 입력하세요:'))\n",
    "    x=[None] * num\n",
    "    for i in range(num):\n",
    "        x[i]=int(input(f'x[{i}]:'))\n",
    "        \n",
    "    bubble_sort(x)\n",
    "    \n",
    "    print('오름차순으로 정렬했습니다.') \n",
    "    for i in range(num):\n",
    "        print(f'x[{i}]={x[i]}')"
   ]
  },
  {
   "cell_type": "markdown",
   "metadata": {},
   "source": [
    "### 셰이커 정렬\n",
    "\n",
    "혼수 패스에서는 가장 작은 원소를 맨 앞으로 이동시키고, 짝수 패스에서는 가장 큰 원소를 맨 뒤로 이동시켜 패스의 스캔 방향을 번갈아 바꾸어 정렬하는 알고리즘"
   ]
  },
  {
   "cell_type": "code",
   "execution_count": 8,
   "metadata": {},
   "outputs": [
    {
     "name": "stdout",
     "output_type": "stream",
     "text": [
      "셰이커 정렬을 수행합니다.\n",
      "오름차순으로 정렬했습니다.\n",
      "x[0]=1\n",
      "x[1]=3\n",
      "x[2]=4\n",
      "x[3]=5\n",
      "x[4]=7\n",
      "x[5]=9\n",
      "x[6]=22\n"
     ]
    }
   ],
   "source": [
    "from typing import MutableSequence\n",
    "\n",
    "def shaker_sort(a: MutableSequence) -> None:\n",
    "    left=0\n",
    "    right=len(a)-1\n",
    "    last=right\n",
    "    while left < right:\n",
    "        for j in range(right,left,-1):\n",
    "            if a[j-1]>a[j]:\n",
    "                a[j-1],a[j]=a[j],a[j-1]\n",
    "                last = j\n",
    "        left=last\n",
    "        \n",
    "        for i in range(left,right):\n",
    "            if a[j]>a[j+1]:\n",
    "                a[j+1],a[j]=a[j],a[j+1]\n",
    "                last = j\n",
    "        right=last\n",
    "        \n",
    "if __name__=='__main__':\n",
    "    print('셰이커 정렬을 수행합니다.')\n",
    "    num=int(input('원소 수를 입력하세요:'))\n",
    "    x=[None] * num\n",
    "    for i in range(num):\n",
    "        x[i]=int(input(f'x[{i}]:'))\n",
    "        \n",
    "    bubble_sort(x)\n",
    "    \n",
    "    print('오름차순으로 정렬했습니다.') \n",
    "    for i in range(num):\n",
    "        print(f'x[{i}]={x[i]}')"
   ]
  },
  {
   "cell_type": "code",
   "execution_count": null,
   "metadata": {},
   "outputs": [],
   "source": []
  }
 ],
 "metadata": {
  "kernelspec": {
   "display_name": "Python 3",
   "language": "python",
   "name": "python3"
  },
  "language_info": {
   "codemirror_mode": {
    "name": "ipython",
    "version": 3
   },
   "file_extension": ".py",
   "mimetype": "text/x-python",
   "name": "python",
   "nbconvert_exporter": "python",
   "pygments_lexer": "ipython3",
   "version": "3.11.4"
  },
  "orig_nbformat": 4
 },
 "nbformat": 4,
 "nbformat_minor": 2
}
