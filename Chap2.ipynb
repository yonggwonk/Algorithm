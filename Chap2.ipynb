{
 "cells": [
  {
   "cell_type": "markdown",
   "id": "57bfcdf8",
   "metadata": {},
   "source": [
    "# 2. 기본 자료구조와 배열\n",
    "\n",
    "### - 배열의 등가성\n",
    "#### 맨 앞 원소부터 차례로 비교하며 값이 같을 시 다음 원소 비교, 원소 수가 다른 경우 원소 수가 많은 배열을 크다고 판단\n",
    "\n",
    "### - 리스트와 튜플의 차이\n",
    "#### 값 변경: 리스트만 가능\n",
    "#### 딕셔너리의 key로 사용: 튜플만 가능\n",
    "#### += 또는 *=수행 : 튜플은 내부에서만 가능\n"
   ]
  },
  {
   "cell_type": "markdown",
   "id": "dfc6eae8",
   "metadata": {},
   "source": [
    "### - 리스트 스캔\n",
    "튜플도 동일하게 적용"
   ]
  },
  {
   "cell_type": "code",
   "execution_count": 2,
   "id": "43d015fe",
   "metadata": {},
   "outputs": [
    {
     "name": "stdout",
     "output_type": "stream",
     "text": [
      "x[0]=John\n",
      "x[1]=George\n",
      "x[2]=Paul\n",
      "x[3]=Ringo\n"
     ]
    }
   ],
   "source": [
    "x= ['John', 'George', 'Paul', 'Ringo']\n",
    "\n",
    "for i in range(len(x)):\n",
    "    print(f'x[{i}]={x[i]}')"
   ]
  },
  {
   "cell_type": "code",
   "execution_count": 4,
   "id": "52fd7ad3",
   "metadata": {},
   "outputs": [
    {
     "name": "stdout",
     "output_type": "stream",
     "text": [
      "x[0]=John\n",
      "x[1]=George\n",
      "x[2]=Paul\n",
      "x[3]=Ringo\n"
     ]
    }
   ],
   "source": [
    "for i,name in enumerate(x):\n",
    "    print(f'x[{i}]={name}')"
   ]
  },
  {
   "cell_type": "code",
   "execution_count": 5,
   "id": "0395547e",
   "metadata": {},
   "outputs": [
    {
     "name": "stdout",
     "output_type": "stream",
     "text": [
      "1번째=John\n",
      "2번째=George\n",
      "3번째=Paul\n",
      "4번째=Ringo\n"
     ]
    }
   ],
   "source": [
    "for i,name in enumerate(x,1):\n",
    "    print(f'{i}번째={name}')"
   ]
  },
  {
   "cell_type": "code",
   "execution_count": 6,
   "id": "d8ffd9e8",
   "metadata": {},
   "outputs": [
    {
     "name": "stdout",
     "output_type": "stream",
     "text": [
      "John\n",
      "George\n",
      "Paul\n",
      "Ringo\n"
     ]
    }
   ],
   "source": [
    "for i in x:\n",
    "    print(i)"
   ]
  },
  {
   "cell_type": "markdown",
   "id": "8dd47c7c",
   "metadata": {},
   "source": [
    "### - 뮤터블 시퀀스 원소를 역순으로 정렬\n",
    "\n",
    "x.reverse() 사용 가능\n",
    "reversed(x)"
   ]
  },
  {
   "cell_type": "code",
   "execution_count": 7,
   "id": "442ff3c0",
   "metadata": {
    "scrolled": true
   },
   "outputs": [
    {
     "name": "stdout",
     "output_type": "stream",
     "text": [
      "배열 원소를 역순으로 정렬합니다.\n",
      "원소 수를 입력하세요:10\n",
      "x[0]값을 입력하세요:3\n",
      "x[1]값을 입력하세요:1\n",
      "x[2]값을 입력하세요:2\n",
      "x[3]값을 입력하세요:5\n",
      "x[4]값을 입력하세요:6\n",
      "x[5]값을 입력하세요:3\n",
      "x[6]값을 입력하세요:4\n",
      "x[7]값을 입력하세요:5\n",
      "x[8]값을 입력하세요:2\n",
      "x[9]값을 입력하세요:1\n",
      "배열 원소를 역순으로 정렬했습니다.\n",
      "x[0] = 1\n",
      "x[1] = 2\n",
      "x[2] = 5\n",
      "x[3] = 4\n",
      "x[4] = 3\n",
      "x[5] = 6\n",
      "x[6] = 5\n",
      "x[7] = 2\n",
      "x[8] = 1\n",
      "x[9] = 3\n"
     ]
    }
   ],
   "source": [
    "from typing import Any, MutableSequence\n",
    "\n",
    "def reverse_array(a: MutableSequence) -> None:\n",
    "    n=len(a)\n",
    "    for i in range(n//2):\n",
    "        a[i], a[n-i-1] = a[n-1-i], a[i]\n",
    "        \n",
    "if __name__ == '__main__':\n",
    "    print('배열 원소를 역순으로 정렬합니다.')\n",
    "    nx=int(input('원소 수를 입력하세요:'))\n",
    "    x=[None] * nx\n",
    "    \n",
    "    for i in range(nx):\n",
    "        x[i] = int(input(f'x[{i}]값을 입력하세요:'))\n",
    "        \n",
    "    reverse_array(x)\n",
    "    \n",
    "    print('배열 원소를 역순으로 정렬했습니다.')\n",
    "    for i in range(nx):\n",
    "        print(f'x[{i}] = {x[i]}')"
   ]
  },
  {
   "cell_type": "markdown",
   "id": "f881d0dc",
   "metadata": {},
   "source": [
    "### 소수 찾기 알고리즘(개선)\n",
    "#### 정수 n은 n의 제곱근 이하의 어떤 소수로도 나누어 떨어지지 않으면 소수임"
   ]
  },
  {
   "cell_type": "code",
   "execution_count": 26,
   "id": "e60487db",
   "metadata": {},
   "outputs": [
    {
     "name": "stdout",
     "output_type": "stream",
     "text": [
      "2\n",
      "3\n",
      "5\n",
      "7\n",
      "11\n",
      "13\n",
      "17\n",
      "19\n",
      "23\n",
      "29\n",
      "31\n",
      "37\n",
      "41\n",
      "43\n",
      "47\n",
      "53\n",
      "59\n",
      "61\n",
      "67\n",
      "71\n",
      "73\n",
      "79\n",
      "83\n",
      "89\n",
      "97\n",
      "101\n",
      "103\n",
      "107\n",
      "109\n",
      "113\n",
      "127\n",
      "131\n",
      "137\n",
      "139\n",
      "149\n",
      "151\n",
      "157\n",
      "163\n",
      "167\n",
      "173\n",
      "179\n",
      "181\n",
      "191\n",
      "193\n",
      "197\n",
      "199\n",
      "211\n",
      "223\n",
      "227\n",
      "229\n",
      "233\n",
      "239\n",
      "241\n",
      "251\n",
      "257\n",
      "263\n",
      "269\n",
      "271\n",
      "277\n",
      "281\n",
      "283\n",
      "293\n",
      "307\n",
      "311\n",
      "313\n",
      "317\n",
      "331\n",
      "337\n",
      "347\n",
      "349\n",
      "353\n",
      "359\n",
      "367\n",
      "373\n",
      "379\n",
      "383\n",
      "389\n",
      "397\n",
      "401\n",
      "409\n",
      "419\n",
      "421\n",
      "431\n",
      "433\n",
      "439\n",
      "443\n",
      "449\n",
      "457\n",
      "461\n",
      "463\n",
      "467\n",
      "479\n",
      "487\n",
      "491\n",
      "499\n",
      "503\n",
      "509\n",
      "521\n",
      "523\n",
      "541\n",
      "547\n",
      "557\n",
      "563\n",
      "569\n",
      "571\n",
      "577\n",
      "587\n",
      "593\n",
      "599\n",
      "601\n",
      "607\n",
      "613\n",
      "617\n",
      "619\n",
      "631\n",
      "641\n",
      "643\n",
      "647\n",
      "653\n",
      "659\n",
      "661\n",
      "673\n",
      "677\n",
      "683\n",
      "691\n",
      "701\n",
      "709\n",
      "719\n",
      "727\n",
      "733\n",
      "739\n",
      "743\n",
      "751\n",
      "757\n",
      "761\n",
      "769\n",
      "773\n",
      "787\n",
      "797\n",
      "809\n",
      "811\n",
      "821\n",
      "823\n",
      "827\n",
      "829\n",
      "839\n",
      "853\n",
      "857\n",
      "859\n",
      "863\n",
      "877\n",
      "881\n",
      "883\n",
      "887\n",
      "907\n",
      "911\n",
      "919\n",
      "929\n",
      "937\n",
      "941\n",
      "947\n",
      "953\n",
      "967\n",
      "971\n",
      "977\n",
      "983\n",
      "991\n",
      "997\n",
      "곱셈과 나눗셈을 실행한 횟수: 3774\n"
     ]
    }
   ],
   "source": [
    "counter = 0\n",
    "ptr = 0\n",
    "prime = [None]*500\n",
    "\n",
    "prime[ptr] = 2\n",
    "ptr+=1\n",
    "\n",
    "prime[ptr]=3\n",
    "ptr+=1\n",
    "\n",
    "for n in range(5,1001,2):\n",
    "    i = 1\n",
    "    while prime[i] *prime[i]<=n:\n",
    "        counter +=2\n",
    "        if n%prime[i]==0:\n",
    "            break\n",
    "        i+=1\n",
    "    else: \n",
    "        prime[ptr]=n\n",
    "        ptr+=1\n",
    "        counter+=1\n",
    "        \n",
    "for i in range(ptr):\n",
    "    print(prime[i])\n",
    "print(f'곱셈과 나눗셈을 실행한 횟수: {counter}')"
   ]
  },
  {
   "cell_type": "code",
   "execution_count": null,
   "id": "0d181943",
   "metadata": {},
   "outputs": [],
   "source": []
  }
 ],
 "metadata": {
  "kernelspec": {
   "display_name": "Python 3 (ipykernel)",
   "language": "python",
   "name": "python3"
  },
  "language_info": {
   "codemirror_mode": {
    "name": "ipython",
    "version": 3
   },
   "file_extension": ".py",
   "mimetype": "text/x-python",
   "name": "python",
   "nbconvert_exporter": "python",
   "pygments_lexer": "ipython3",
   "version": "3.9.13"
  }
 },
 "nbformat": 4,
 "nbformat_minor": 5
}
