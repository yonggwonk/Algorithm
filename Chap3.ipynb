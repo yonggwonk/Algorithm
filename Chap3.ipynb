{
 "cells": [
  {
   "cell_type": "markdown",
   "id": "aea0bc31",
   "metadata": {},
   "source": [
    "## 3. 검색 알고리즘\n",
    "\n",
    "### 3 - 1 검색 알고리즘이란\n",
    "\n",
    "key를 이용하여 값을 검색하는 것\n",
    "\n",
    "배열 검색, 연결 리스트 검색, 이진 검색 트리 검색\n",
    "\n",
    "\n",
    "### 배열 검색\n",
    "\n",
    "#### 1. 선형 검색\n",
    "\n",
    "원하는 키 값을 가진 원소를 찾을 때까지 맨 앞부터 스캔하여 순서대로 검색하는 알고리즘\n",
    "\n",
    "판단에는 평균 n/2번의 횟수가 필요함"
   ]
  },
  {
   "cell_type": "code",
   "execution_count": 6,
   "id": "fbf8084f",
   "metadata": {},
   "outputs": [
    {
     "name": "stdout",
     "output_type": "stream",
     "text": [
      "값이 존재하지 않습니다\n"
     ]
    }
   ],
   "source": [
    "from typing import Any, Sequence\n",
    "\n",
    "def seq_search(a: Sequence, key : Any) -> int:\n",
    "    i=0\n",
    "    \n",
    "    while True:\n",
    "        if i == len(a):\n",
    "            return -1\n",
    "        if a[i] == key:\n",
    "            return i\n",
    "        i+=1\n",
    "        \n",
    "if __name__ == '__main__':\n",
    "    num = int(input('원소 수를 입력하세요:'))\n",
    "    x=[None]*num\n",
    "    \n",
    "    for i in range(num):\n",
    "        x[i]= int(input(f'x[{i}]: '))\n",
    "        \n",
    "    ky = int(input('검색할 값을 입력하세요: '))\n",
    "    \n",
    "    idx= seq_search(x,ky)\n",
    "    \n",
    "    if idx == -1:\n",
    "        print('값이 존재하지 않습니다')\n",
    "        \n",
    "    else:\n",
    "        print(f'검색값은 x[{idx}]에 있습니다.')"
   ]
  },
  {
   "cell_type": "markdown",
   "id": "1625e741",
   "metadata": {},
   "source": [
    "### 보초법이란\n",
    "선형 검색에서 2가지 종료조건을 체크하는 대신, 배열의 마지막에 검색할 원소를 추가함으로써 값을 찾지 못한 경우를 배제할 수 있음, 이 때, idx와 배열의 길이가 같으면 찾지 못했다고 판단함"
   ]
  },
  {
   "cell_type": "code",
   "execution_count": 4,
   "id": "5cf68301",
   "metadata": {},
   "outputs": [
    {
     "name": "stdout",
     "output_type": "stream",
     "text": [
      "검색값은 x[2]에 있습니다.\n"
     ]
    }
   ],
   "source": [
    "from typing import Any, Sequence\n",
    "import copy\n",
    "\n",
    "def seq_search(seq: Sequence, key : Any) -> int:\n",
    "    i=0\n",
    "    a=copy.deepcopy(seq)\n",
    "    a.append(key)\n",
    "\n",
    "    while True:\n",
    "        if a[i] == key:\n",
    "            break\n",
    "        i+=1\n",
    "    return -1 if i ==len(seq) else i\n",
    "\n",
    "\n",
    "num = int(input('원소 수를 입력하세요:'))\n",
    "x=[None]*num\n",
    "\n",
    "for i in range(num):\n",
    "    x[i]= int(input(f'x[{i}]: '))\n",
    "    \n",
    "ky = int(input('검색할 값을 입력하세요: '))\n",
    "\n",
    "idx= seq_search(x,ky)\n",
    "\n",
    "if idx == -1:\n",
    "    print('값이 존재하지 않습니다')\n",
    "    \n",
    "else:\n",
    "    print(f'검색값은 x[{idx}]에 있습니다.')"
   ]
  },
  {
   "cell_type": "code",
   "execution_count": null,
   "id": "ab6ad51e",
   "metadata": {},
   "outputs": [],
   "source": []
  }
 ],
 "metadata": {
  "kernelspec": {
   "display_name": "Python 3 (ipykernel)",
   "language": "python",
   "name": "python3"
  },
  "language_info": {
   "codemirror_mode": {
    "name": "ipython",
    "version": 3
   },
   "file_extension": ".py",
   "mimetype": "text/x-python",
   "name": "python",
   "nbconvert_exporter": "python",
   "pygments_lexer": "ipython3",
   "version": "3.9.6"
  }
 },
 "nbformat": 4,
 "nbformat_minor": 5
}
