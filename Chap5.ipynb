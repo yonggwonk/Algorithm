{
 "cells": [
  {
   "cell_type": "markdown",
   "metadata": {},
   "source": [
    "## 5. 재귀 알고리즘\n",
    "\n",
    "### 5-1. 재귀 기본\n",
    "어떠한 이벤트에서 자기 자신을 포함하고 다시 자기 자신을 사용하여 정의되는 경우를 재귀라고 함\n",
    "\n",
    "Ex) 자연수의 정의: \n",
    "- 1은 자연수입니다.\n",
    "- 어떤 자연수의 바로 다음 수도 자연수입니다."
   ]
  },
  {
   "cell_type": "markdown",
   "metadata": {},
   "source": [
    "#### 팩토리얼"
   ]
  },
  {
   "cell_type": "code",
   "execution_count": 3,
   "metadata": {},
   "outputs": [
    {
     "name": "stdout",
     "output_type": "stream",
     "text": [
      "15의 팩토리얼은 1307674368000입니다.\n"
     ]
    }
   ],
   "source": [
    "def factorial(n: int) -> int:\n",
    "    if n>0:\n",
    "        return n*factorial(n-1)\n",
    "    else:\n",
    "        return 1\n",
    "    \n",
    "if __name__ == '__main__':\n",
    "    n=int(input(\"출력할 팩토리얼을 입력하세요:\"))\n",
    "    print(f'{n}의 팩토리얼은 {factorial(n)}입니다.')"
   ]
  },
  {
   "cell_type": "markdown",
   "metadata": {},
   "source": [
    "### 유클리드 호제법\n",
    "\n",
    "두 정숫값의 최대 공약수를 재귀적으로 구하는 방법\n",
    " => 직사각형을 정사각형으로 채워 나갈 때, 가장 작은 정사각형의 변의 길이가 gcd와 같음"
   ]
  },
  {
   "cell_type": "code",
   "execution_count": 4,
   "metadata": {},
   "outputs": [
    {
     "name": "stdout",
     "output_type": "stream",
     "text": [
      "두 정숫값의 최대 공약수를 구합니다.\n",
      "두 정숫값의 최대공약수는 6입니다.\n"
     ]
    }
   ],
   "source": [
    "def gcd(x:int, y:int)-> int:\n",
    "    if y==0:\n",
    "        return x\n",
    "    else:\n",
    "        return gcd(y,x%y)\n",
    "    \n",
    "if __name__=='__main__':\n",
    "    print('두 정숫값의 최대 공약수를 구합니다.')\n",
    "    x=int(input('x='))\n",
    "    y=int(input('y='))\n",
    "    \n",
    "    print(f'두 정숫값의 최대공약수는 {gcd(x,y)}입니다.')"
   ]
  },
  {
   "cell_type": "markdown",
   "metadata": {},
   "source": [
    "\n",
    "### 5-2. 재귀 알고리즘 분석\n",
    "\n"
   ]
  },
  {
   "cell_type": "code",
   "execution_count": 6,
   "metadata": {},
   "outputs": [
    {
     "name": "stdout",
     "output_type": "stream",
     "text": [
      "1\n",
      "2\n",
      "3\n",
      "1\n",
      "4\n",
      "1\n",
      "2\n",
      "5\n",
      "1\n",
      "2\n",
      "3\n",
      "1\n"
     ]
    }
   ],
   "source": [
    "def recur(n:int) -> int:\n",
    "    if n>0:\n",
    "        recur(n-1)\n",
    "        print(n)\n",
    "        recur(n-2)\n",
    "        \n",
    "x=int(input('정숫값을 입력하세요:'))\n",
    "\n",
    "recur(x)"
   ]
  },
  {
   "cell_type": "markdown",
   "metadata": {},
   "source": [
    "#### 하향식 분석 \n",
    "\n",
    "recur(5)의 실행 과정\n",
    "1. recur(4)\n",
    "2. 5를 출력\n",
    "3. recur(3)\n",
    "\n",
    "recur를 재귀하며 1,2,3번 과정을 반복\n",
    "\n",
    "recur(1), recur(2) 등을 여러번 호출하므로 효율적이라고 할 수 는 없음"
   ]
  },
  {
   "cell_type": "markdown",
   "metadata": {},
   "source": [
    "#### 상향식 분석\n",
    "\n",
    "recur(1), recur(2) ...을 쌓아 올리며 최종 출력을 얻을 수 있음"
   ]
  },
  {
   "cell_type": "code",
   "execution_count": 7,
   "metadata": {},
   "outputs": [
    {
     "name": "stdout",
     "output_type": "stream",
     "text": [
      "1\n",
      "2\n",
      "3\n",
      "1\n",
      "4\n",
      "1\n",
      "2\n",
      "5\n",
      "1\n",
      "2\n",
      "3\n",
      "1\n"
     ]
    }
   ],
   "source": [
    "# 재귀 함수의 비재귀적 표현(꼬리 재귀를 제거)\n",
    "\n",
    "def recur(n:int) -> int:\n",
    "    while n>0:\n",
    "        recur(n-1)\n",
    "        print(n)\n",
    "        n=n-2\n",
    "        \n",
    "x=int(input('정숫값을 입력하세요:'))\n",
    "\n",
    "recur(x)"
   ]
  },
  {
   "cell_type": "code",
   "execution_count": 10,
   "metadata": {},
   "outputs": [],
   "source": [
    "# 스택을 사용하여 앞선 재귀 호출 함수 제거\n",
    "# [Do it! 4C-1] 고정 길이 스택 클래스 구현하기(collections.deque를 사용)\n",
    "\n",
    "from typing import Any\n",
    "from collections import deque\n",
    "\n",
    "class Stack:\n",
    "    \"\"\"고정 길이 스택 클래스(collections.deque를 사용)\"\"\"\n",
    "\n",
    "    def __init__(self, maxlen: int = 256) -> None:\n",
    "        \"\"\"초기화 선언\"\"\"\n",
    "        self.capacity = maxlen\n",
    "        self.__stk = deque([], maxlen)\n",
    "\n",
    "    def __len__(self) -> int:\n",
    "        \"\"\"스택에 쌓여있는 데이터 개수를 반환\"\"\"\n",
    "        return len(self.__stk)\n",
    "\n",
    "    def is_empty(self) -> bool:\n",
    "        \"\"\"스택이 비어 있는지 판단\"\"\"\n",
    "        return not self.__stk\n",
    "\n",
    "    def is_full(self) -> bool:\n",
    "        \"\"\"스택이 가득 찼는지 판단\"\"\"\n",
    "        return len(self.__stk) == self.__stk.maxlen\n",
    "\n",
    "    def push(self, value: Any) -> None:\n",
    "        \"\"\"스택에 value를 푸시\"\"\"\n",
    "        self.__stk.append(value)\n",
    "\n",
    "    def pop(self) -> Any:\n",
    "        \"\"\"스택에서 데이터를 팝\"\"\"\n",
    "        return self.__stk.pop()\n",
    "\n",
    "    def peek(self) -> Any:\n",
    "        \"\"\"스택에서 데이터를 피크\"\"\"\n",
    "        return self.__stk[-1]\n",
    "\n",
    "    def clear(self) -> None:\n",
    "        \"\"\"스택을 비웁니다\"\"\"\n",
    "        self.__stk.clear()\n",
    "\n",
    "    def find(self, value: Any) -> Any:\n",
    "        \"\"\"스택에서 value를 찾아 인덱스(없으면 -1)를 반환\"\"\"\n",
    "        try:\n",
    "            return self.__stk.index(value)\n",
    "        except ValueError:\n",
    "            return -1\n",
    "\n",
    "    def count(self, value: Any) -> int:\n",
    "        \"\"\"스택에 포함된 value의 개수를 반환\"\"\"\n",
    "        return self.__stk.count(value)\n",
    "\n",
    "    def __contains__(self, value: Any) -> bool:\n",
    "        \"\"\"스택에 value가 포함되어 있는지 판단\"\"\"\n",
    "        return self.count(value)\n",
    "\n",
    "    def dump(self) -> int:\n",
    "        \"\"\"스택 안에 있는 모든 데이터를 나열\"\"\"\n",
    "        print(list(self.__stk))"
   ]
  },
  {
   "cell_type": "code",
   "execution_count": 15,
   "metadata": {},
   "outputs": [
    {
     "name": "stdout",
     "output_type": "stream",
     "text": [
      "1\n",
      "2\n",
      "3\n",
      "1\n",
      "4\n",
      "1\n",
      "2\n",
      "5\n",
      "1\n",
      "2\n",
      "3\n",
      "1\n"
     ]
    },
    {
     "ename": "",
     "evalue": "",
     "output_type": "error",
     "traceback": [
      "\u001b[1;31m현재 셀 또는 이전 셀에서 코드를 실행하는 동안 Kernel이 충돌했습니다. 셀의 코드를 검토하여 오류의 가능한 원인을 식별하세요. 자세한 내용을 보려면 <a href='https://aka.ms/vscodeJupyterKernelCrash'> 여기 </a> 를 클릭하세요. 자세한 내용은 Jupyter <a href='command:jupyter.viewOutput'>로그</a>를 참조하세요."
     ]
    }
   ],
   "source": [
    "def recur(n: int) -> int:\n",
    "    s=Stack(n)\n",
    "    \n",
    "    while(True):\n",
    "        if n>0:\n",
    "            s.push(n)\n",
    "            n=n-1\n",
    "            continue\n",
    "        if not s.is_empty():\n",
    "            n=s.pop()\n",
    "            print(n)\n",
    "            n=n-2\n",
    "            continue\n",
    "        break\n",
    "    \n",
    "x=int(input('정숫값을 입력학세요:'))\n",
    "\n",
    "recur(x)"
   ]
  },
  {
   "cell_type": "markdown",
   "metadata": {},
   "source": [
    "### 5-3. 하노이의 탑\n",
    "\n",
    "큰 원반이 아래에 위치하는 규칙을 지키면서 기둥 3개를 이용해서 원반을 옮기는 문제, 첫 번째 기둥에서 쌓여있는 상태로 시작하여 최소 횟수로 옮기는 방법을 찾는 것이 목적"
   ]
  },
  {
   "cell_type": "markdown",
   "metadata": {},
   "source": [
    "1. 원반이 3개인 경우\n",
    "\n",
    "원반 1, 2를 그룹으로 묶어 중간 지점으로 옮긴 후 최종 지점으로 이동하는 방법\n",
    "\n",
    "2. 원반이 2개인 경우\n",
    "\n",
    "하나씩 옮김\n",
    "\n",
    "3. 원반이 4개인 경우\n",
    "\n",
    "원반 1,2,3을 그룹화하여 옯기는 방법"
   ]
  },
  {
   "cell_type": "code",
   "execution_count": 2,
   "metadata": {},
   "outputs": [
    {
     "name": "stdout",
     "output_type": "stream",
     "text": [
      "하노이의 탑을 구현합니다.\n",
      "원반 [1]을 1기둥에서 3기둥으로 옮깁니다.\n",
      "원반 [2]을 1기둥에서 2기둥으로 옮깁니다.\n",
      "원반 [1]을 3기둥에서 2기둥으로 옮깁니다.\n",
      "원반 [3]을 1기둥에서 3기둥으로 옮깁니다.\n",
      "원반 [1]을 2기둥에서 1기둥으로 옮깁니다.\n",
      "원반 [2]을 2기둥에서 3기둥으로 옮깁니다.\n",
      "원반 [1]을 1기둥에서 3기둥으로 옮깁니다.\n"
     ]
    }
   ],
   "source": [
    "#하노이의 탑 구현\n",
    "\"\"\"no: 원반 수, x,y는 시작 기둥, 목표 기둥\"\"\"\n",
    "def move(no: int, x=int, y=int)->None:\n",
    "    if no>1:\n",
    "        move(no-1,x,6-x-y)\n",
    "        \n",
    "    print(f'원반 [{no}]을 {x}기둥에서 {y}기둥으로 옮깁니다.')\n",
    "    \n",
    "    if no> 1:\n",
    "        move(no-1, 6-x-y,y)\n",
    "\n",
    "print('하노이의 탑을 구현합니다.')\n",
    "n=int(input('원반의 개수를 입력하세요:'))\n",
    "\n",
    "move(n,1,3)"
   ]
  },
  {
   "cell_type": "code",
   "execution_count": null,
   "metadata": {},
   "outputs": [],
   "source": []
  }
 ],
 "metadata": {
  "kernelspec": {
   "display_name": "studyenv",
   "language": "python",
   "name": "python3"
  },
  "language_info": {
   "codemirror_mode": {
    "name": "ipython",
    "version": 3
   },
   "file_extension": ".py",
   "mimetype": "text/x-python",
   "name": "python",
   "nbconvert_exporter": "python",
   "pygments_lexer": "ipython3",
   "version": "3.9.6"
  },
  "orig_nbformat": 4
 },
 "nbformat": 4,
 "nbformat_minor": 2
}
